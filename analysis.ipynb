{
 "cells": [
  {
   "cell_type": "code",
   "execution_count": null,
   "metadata": {},
   "outputs": [],
   "source": [
    "import cv2\n",
    "import numpy as np\n",
    "import sys\n"
   ]
  },
  {
   "cell_type": "markdown",
   "metadata": {},
   "source": [
    "## Combine Function"
   ]
  },
  {
   "cell_type": "code",
   "execution_count": null,
   "metadata": {},
   "outputs": [],
   "source": [
    "# Load the four video files\n",
    "video_paths = [\n",
    "    'videos/khaled.mp4',\n",
    "    'videos/khaled_lucaskanade_dense_out.mp4',\n",
    "    'videos/khaled_farneback_out.mp4',\n",
    "    'videos/khaled_rlof_out.mp4'\n",
    "]\n",
    "def combine_videos(video_paths: list, output_video_name: str):\n",
    "    # Open the video capture objects\n",
    "    captures = [cv2.VideoCapture(path) for path in video_paths]\n",
    "\n",
    "    # Get video properties (assuming all videos have the same properties)\n",
    "    width = int(captures[0].get(cv2.CAP_PROP_FRAME_WIDTH))\n",
    "    height = int(captures[0].get(cv2.CAP_PROP_FRAME_HEIGHT))\n",
    "    fps = int(captures[0].get(cv2.CAP_PROP_FPS))\n",
    "\n",
    "    # Create a video writer object\n",
    "    combined_video = cv2.VideoWriter(output_video_name, cv2.VideoWriter_fourcc(*'mp4v'), fps, (width * 2, height * 2))\n",
    "\n",
    "    # Read and combine frames from each video\n",
    "    for i, capture in enumerate(captures):\n",
    "        ret, frame = capture.read()\n",
    "        if ret:\n",
    "            # Resize each frame to half its original size\n",
    "            frame = cv2.resize(frame, (width // 2, height // 2))\n",
    "\n",
    "            # Define the positions for each frame\n",
    "            positions = [\n",
    "                (0, 0),  # Top-left\n",
    "                (width // 2, 0),  # Top-right\n",
    "                (0, height // 2),  # Bottom-left\n",
    "                (width // 2, height // 2)  # Bottom-right\n",
    "            ]\n",
    "\n",
    "            # Add text annotation\n",
    "            text = f\"{video_paths[i].split('/')[1]}\"\n",
    "            cv2.putText(frame, text, (10, 30), cv2.FONT_HERSHEY_SIMPLEX, 1, (255, 255, 255), 2)\n",
    "\n",
    "            # Place the frame in the combined frame\n",
    "            combined_video[positions[i][1]:positions[i][1] + frame.shape[0], positions[i][0]:positions[i][0] + frame.shape[1]] = frame\n",
    "\n",
    "    # Release capture objects\n",
    "    for capture in captures:\n",
    "        capture.release()\n",
    "\n",
    "    # Release the video writer object\n",
    "    combined_video.release()"
   ]
  },
  {
   "cell_type": "markdown",
   "metadata": {},
   "source": [
    "## Combined Traffic"
   ]
  },
  {
   "cell_type": "code",
   "execution_count": null,
   "metadata": {},
   "outputs": [],
   "source": []
  },
  {
   "cell_type": "markdown",
   "metadata": {},
   "source": [
    "## Combined Khaled\n"
   ]
  },
  {
   "cell_type": "code",
   "execution_count": null,
   "metadata": {},
   "outputs": [],
   "source": []
  },
  {
   "cell_type": "markdown",
   "metadata": {},
   "source": [
    "## Combined Walking"
   ]
  },
  {
   "cell_type": "markdown",
   "metadata": {},
   "source": []
  }
 ],
 "metadata": {
  "language_info": {
   "name": "python"
  }
 },
 "nbformat": 4,
 "nbformat_minor": 2
}
